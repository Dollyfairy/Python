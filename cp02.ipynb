{
 "cells": [
  {
   "cell_type": "markdown",
   "metadata": {},
   "source": [
    "# 1. 公斤與磅數的轉換 (範例)\n",
    "\n",
    "由使用者輸入公斤數，請轉為磅數再印出。\n",
    "\n",
    "* 1磅=0.454公斤\n",
    "* 輸入值可能有小數, 但不能是負數. 輸入負值時, 顯示'不接受負數!'\n",
    "* 輸出值小數留1位, 四捨五入\n",
    "* 輸入錯誤時, 顯示'輸入值錯誤!' "
   ]
  },
  {
   "cell_type": "code",
   "execution_count": null,
   "metadata": {},
   "outputs": [],
   "source": [
    "#------------------------\n",
    "# 輸入公斤數\n",
    "#------------------------\n",
    "kg = input('公斤數:')\n",
    "\n",
    "#------------------------\n",
    "# 計算磅數\n",
    "#------------------------\n",
    "try:\n",
    "    kg = float(kg)\n",
    "    if kg >= 0:\n",
    "        pound = kg / 0.454\n",
    "        print(f'磅數:{pound:.1f}')\n",
    "    else:\n",
    "        print('不接受負數!')\n",
    "except:\n",
    "    print('輸入值錯誤!')"
   ]
  },
  {
   "cell_type": "raw",
   "metadata": {},
   "source": [
    "10\n",
    ">> 磅數: 22.0\n",
    "\n",
    "23\n",
    ">> 磅數: 50.7\n",
    "\n",
    "-10\n",
    ">> 不接受負數!\n",
    "\n",
    "abc\n",
    ">> 輸入值錯誤!"
   ]
  },
  {
   "cell_type": "markdown",
   "metadata": {},
   "source": [
    "# 2. 攝氏與華氏的轉換\n",
    "\n",
    "由使用者輸入攝氏溫度，請轉為華氏溫度再印出。\n",
    "\n",
    "* 華氏溫度 = 9/5 * 攝氏溫度 + 32\n",
    "* 輸入值可能有小數. 輸入負值時, 顯示'不接受負數!'\n",
    "* 輸出值小數留1位, 四捨五入\n",
    "* 輸入錯誤時, 顯示'輸入值錯誤!' "
   ]
  },
  {
   "cell_type": "code",
   "execution_count": null,
   "metadata": {},
   "outputs": [],
   "source": [
    "#------------------------\n",
    "# 你的程式寫在這裡\n",
    "#------------------------"
   ]
  },
  {
   "cell_type": "raw",
   "metadata": {},
   "source": [
    "23\n",
    ">> 華氏溫度: 73.4\n",
    "\n",
    "31.5\n",
    ">> 華氏溫度: 88.7\n",
    "\n",
    "-10\n",
    ">> 不接受負數!\n",
    "\n",
    "abc\n",
    ">> 輸入值錯誤!"
   ]
  },
  {
   "cell_type": "markdown",
   "metadata": {},
   "source": [
    "# 3. 幣值轉換\n",
    "\n",
    "由使用者輸入台幣金額, 請印出分別可兌換多少美金? 英鎊? 日元?\n",
    "\n",
    "* 1元新台幣 = 0.03194美元\n",
    "* 1元新台幣 = 0.02520英鎊\n",
    "* 1元新台幣 = 3.42583日圓\n",
    "* 輸入值為整數. 輸入負值時, 顯示'不接受負數!'\n",
    "* 輸出值只留整數, 小數無條件捨去; 另外加上千分位數\n",
    "* 輸入錯誤時, 顯示'輸入值錯誤!' "
   ]
  },
  {
   "cell_type": "code",
   "execution_count": null,
   "metadata": {},
   "outputs": [],
   "source": [
    "#------------------------\n",
    "# 你的程式寫在這裡\n",
    "#------------------------"
   ]
  },
  {
   "cell_type": "raw",
   "metadata": {},
   "source": [
    "12000\n",
    ">> 美元: 383\n",
    ">> 英鎊: 302\n",
    ">> 日圓: 41,109\n",
    "\n",
    "25000\n",
    ">> 美元: 798\n",
    ">> 英鎊: 630\n",
    ">> 日圓: 85,645\n",
    "\n",
    "-10\n",
    ">> 不接受負數!\n",
    "\n",
    "abc\n",
    ">> 輸入值錯誤!"
   ]
  },
  {
   "cell_type": "markdown",
   "metadata": {},
   "source": [
    "# 4. 平方公尺與坪的轉換\n",
    "\n",
    "由使用者輸入平方公尺, 請印出其坪數。\n",
    "\n",
    "* 1平方公尺= 0.3025坪\n",
    "* 輸入值可能有小數. 輸入負值時, 顯示'不接受負數!'\n",
    "* 輸出值留2位小數, 餘四捨五入\n",
    "* 輸入錯誤時, 顯示'輸入值錯誤!' "
   ]
  },
  {
   "cell_type": "code",
   "execution_count": null,
   "metadata": {},
   "outputs": [],
   "source": [
    "#------------------------\n",
    "# 你的程式寫在這裡\n",
    "#------------------------"
   ]
  },
  {
   "cell_type": "raw",
   "metadata": {},
   "source": [
    "120\n",
    ">> 坪數: 36.3\n",
    "\n",
    "185.5\n",
    ">> 坪數: 56.11\n",
    "\n",
    "-10\n",
    ">> 不接受負數!\n",
    "\n",
    "abc\n",
    ">> 輸入值錯誤!"
   ]
  },
  {
   "cell_type": "markdown",
   "metadata": {},
   "source": [
    "# 5. 公升與加崙的轉轉換\n",
    "\n",
    "由使用者輸入公升, 請印出其加崙數。\n",
    "\n",
    "* 1公升 = 0.264172052 加侖\n",
    "* 輸入值可能有小數. 輸入負值時, 顯示'不接受負數!'\n",
    "* 輸出值留3位小數, 餘四捨五入\n",
    "* 輸入錯誤時, 顯示'輸入值錯誤!' "
   ]
  },
  {
   "cell_type": "code",
   "execution_count": null,
   "metadata": {},
   "outputs": [],
   "source": [
    "#------------------------\n",
    "# 你的程式寫在這裡\n",
    "#------------------------"
   ]
  },
  {
   "cell_type": "raw",
   "metadata": {},
   "source": [
    "120\n",
    ">> 加崙數: 31.701\n",
    "\n",
    "350.6\n",
    ">> 加崙數: 92.619\n",
    "\n",
    "-10\n",
    ">> 不接受負數!\n",
    "\n",
    "abc\n",
    ">> 輸入值錯誤!"
   ]
  },
  {
   "cell_type": "code",
   "execution_count": null,
   "metadata": {},
   "outputs": [],
   "source": []
  }
 ],
 "metadata": {
  "kernelspec": {
   "display_name": "Python 3.8.1 32-bit",
   "language": "python",
   "name": "python38132bitd5c3c04754f44cd3af1424c0cec4a90b"
  },
  "language_info": {
   "codemirror_mode": {
    "name": "ipython",
    "version": 3
   },
   "file_extension": ".py",
   "mimetype": "text/x-python",
   "name": "python",
   "nbconvert_exporter": "python",
   "pygments_lexer": "ipython3",
   "version": "3.8.1"
  }
 },
 "nbformat": 4,
 "nbformat_minor": 4
}
