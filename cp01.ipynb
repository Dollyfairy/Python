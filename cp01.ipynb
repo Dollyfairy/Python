{
 "cells": [
  {
   "cell_type": "markdown",
   "metadata": {},
   "source": [
    "# 1. 計算矩形面積(範例)\n",
    "\n",
    "由使用者輸入一個矩形的長及寬，請輸出該矩形的面積。\n",
    "\n",
    "* 輸入值可能有小數\n",
    "* 計算結果小數留2位, 餘四捨五入, 加入千分位數."
   ]
  },
  {
   "cell_type": "code",
   "execution_count": null,
   "metadata": {},
   "outputs": [],
   "source": [
    "#------------------------\n",
    "# 輸入矩形長及寬\n",
    "#------------------------\n",
    "length = input('請輸入長:')\n",
    "width = input('請輸入寬:')\n",
    "\n",
    "#------------------------\n",
    "# 計算矩形面積\n",
    "#------------------------\n",
    "try:\n",
    "    length = float(length)\n",
    "    width = float(width)\n",
    "    \n",
    "    area = length * width\n",
    "    print(f'面積: {area:,.2f}')\n",
    "except:\n",
    "    print('輸入值錯誤!')"
   ]
  },
  {
   "cell_type": "raw",
   "metadata": {},
   "source": [
    "10\n",
    "20\n",
    ">> 面積: 200.00\n",
    "\n",
    "123.45\n",
    "23.125\n",
    ">> 面積: 2,854.78\n",
    "\n",
    "abc\n",
    "123\n",
    ">> 輸入值錯誤!"
   ]
  },
  {
   "cell_type": "markdown",
   "metadata": {},
   "source": [
    "# 2. 計算立方體的體積\n",
    "\n",
    "由使用者輸入一個立方體的長、寬及高，請輸出該立方的體積。\n",
    "\n",
    "* 輸入值可能有小數\n",
    "* 計算結果小數留2位, 餘四捨五入; 另外加上千分位數."
   ]
  },
  {
   "cell_type": "code",
   "execution_count": null,
   "metadata": {},
   "outputs": [],
   "source": [
    "#------------------------\n",
    "# 你的程式寫在這裡\n",
    "#------------------------"
   ]
  },
  {
   "cell_type": "raw",
   "metadata": {},
   "source": [
    "10\n",
    "20\n",
    "30\n",
    ">> 體積: 6,000.00\n",
    "\n",
    "10.3\n",
    "20.6\n",
    "30.5\n",
    ">> 體積: 6,471.49\n",
    "\n",
    "abc\n",
    "12\n",
    "13\n",
    ">> 輸入值錯誤!"
   ]
  },
  {
   "cell_type": "markdown",
   "metadata": {},
   "source": [
    "# 3. 計算立方體的表面積\n",
    "\n",
    "由使用者輸入一個立方體的長、寬及高，請輸出該立方體的表面積。\n",
    "\n",
    "* 輸入值可能有小數\n",
    "* 計算結果小數留2位, 餘四捨五入; 另外加上千分位數."
   ]
  },
  {
   "cell_type": "code",
   "execution_count": null,
   "metadata": {},
   "outputs": [],
   "source": [
    "#------------------------\n",
    "# 你的程式寫在這裡\n",
    "#------------------------"
   ]
  },
  {
   "cell_type": "raw",
   "metadata": {},
   "source": [
    "4\n",
    "5\n",
    "6\n",
    ">> 表面積: 148.00\n",
    "\n",
    "4.5\n",
    "5.6\n",
    "6.7\n",
    ">> 表面積: 185.74\n",
    "\n",
    "24.25\n",
    "15.36\n",
    "6.47\n",
    ">> 表面積: 1257.51"
   ]
  },
  {
   "cell_type": "markdown",
   "metadata": {},
   "source": [
    "# 4. 計算圓面積\n",
    "\n",
    "由使用者輸入一個圓的半徑，請輸出該圓的面積。\n",
    "\n",
    "* 使用math.pi\n",
    "* 輸入值可能有小數\n",
    "* 計算結果小數留2位, 餘四捨五入; 另外加上千分位數."
   ]
  },
  {
   "cell_type": "code",
   "execution_count": null,
   "metadata": {},
   "outputs": [],
   "source": [
    "#------------------------\n",
    "# 你的程式寫在這裡\n",
    "#------------------------"
   ]
  },
  {
   "cell_type": "raw",
   "metadata": {},
   "source": [
    "10\n",
    ">> 面積: 314.16\n",
    "\n",
    "12.5\n",
    ">> 面積: 490.87\n",
    "\n",
    "11.2\n",
    ">> 面積: 394.08"
   ]
  },
  {
   "cell_type": "markdown",
   "metadata": {},
   "source": [
    "# 5. 計算利息\n",
    "\n",
    "由使用者輸入本金、每期利率及存放期數，請計算存滿期數後可得的利息。\n",
    "\n",
    "* 輸入之本金及期數為整數, 每期利率有小數 \n",
    "* 以單利計算時, 利息 = 本金 * 每期利率 * 存放期數\n",
    "* 小數無條件捨去"
   ]
  },
  {
   "cell_type": "code",
   "execution_count": null,
   "metadata": {},
   "outputs": [],
   "source": [
    "#------------------------\n",
    "# 你的程式寫在這裡\n",
    "#------------------------"
   ]
  },
  {
   "cell_type": "raw",
   "metadata": {},
   "source": [
    "100000\n",
    "0.0125\n",
    "5\n",
    ">> 利息: 6,250元\n",
    "\n",
    "150000\n",
    "0.014\n",
    "8\n",
    ">> 利息: 16,800元"
   ]
  },
  {
   "cell_type": "markdown",
   "metadata": {},
   "source": [
    "# 6. 計算本利和\n",
    "\n",
    "由使用者輸入本金、每期利率及存放期數，請計算以複利計算存滿期數後可得的本利和。\n",
    "\n",
    "* 輸入之本金及期數為整數, 每期利率有小數 \n",
    "* 以複利計算時, 本利和 = 本金 * (1+每期利率)**存放期數\n",
    "* 小數無條件捨去"
   ]
  },
  {
   "cell_type": "code",
   "execution_count": null,
   "metadata": {},
   "outputs": [],
   "source": [
    "#------------------------\n",
    "# 你的程式寫在這裡\n",
    "#------------------------"
   ]
  },
  {
   "cell_type": "raw",
   "metadata": {},
   "source": [
    "100000\n",
    "0.0125\n",
    "5\n",
    ">> 本利和: 106,408元\n",
    "\n",
    "150000\n",
    "0.0145\n",
    "7\n",
    ">> 本利和: 165,903元"
   ]
  }
 ],
 "metadata": {
  "kernelspec": {
   "display_name": "Python 3.8.1 32-bit",
   "language": "python",
   "name": "python38132bitd5c3c04754f44cd3af1424c0cec4a90b"
  },
  "language_info": {
   "codemirror_mode": {
    "name": "ipython",
    "version": 3
   },
   "file_extension": ".py",
   "mimetype": "text/x-python",
   "name": "python",
   "nbconvert_exporter": "python",
   "pygments_lexer": "ipython3",
   "version": "3.8.1"
  }
 },
 "nbformat": 4,
 "nbformat_minor": 4
}
